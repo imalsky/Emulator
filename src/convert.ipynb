{
 "cells": [
  {
   "cell_type": "code",
   "execution_count": null,
   "id": "initial_id",
   "metadata": {
    "collapsed": true
   },
   "outputs": [],
   "source": [
    ""
   ]
  },
  {
   "metadata": {
    "ExecuteTime": {
     "end_time": "2025-08-19T19:37:19.191052Z",
     "start_time": "2025-08-19T19:37:17.588464Z"
    }
   },
   "cell_type": "code",
   "source": [
    "# One-time conversion script\n",
    "import json\n",
    "from pathlib import Path\n",
    "from utils import compress_splits, save_json\n",
    "\n",
    "# Load old format\n",
    "with open(\"../models/trained_model/dataset_splits.json\", \"r\") as f:\n",
    "    old_splits = json.load(f)\n",
    "\n",
    "# Convert lists to tuples if needed\n",
    "for split in old_splits.values():\n",
    "    for i, item in enumerate(split):\n",
    "        if isinstance(item, list) and len(item) == 2:\n",
    "            split[i] = tuple(item)\n",
    "\n",
    "# Compress and save\n",
    "compressed = compress_splits(old_splits)\n",
    "save_json(compressed, \"../models/trained_model/dataset_splits_compact.json\", compact=True)"
   ],
   "id": "8a3028a0a8445d31",
   "outputs": [
    {
     "data": {
      "text/plain": [
       "True"
      ]
     },
     "execution_count": 3,
     "metadata": {},
     "output_type": "execute_result"
    }
   ],
   "execution_count": 3
  },
  {
   "metadata": {},
   "cell_type": "code",
   "outputs": [],
   "execution_count": null,
   "source": "",
   "id": "8a1708c049a8c3a"
  }
 ],
 "metadata": {
  "kernelspec": {
   "display_name": "Python 3",
   "language": "python",
   "name": "python3"
  },
  "language_info": {
   "codemirror_mode": {
    "name": "ipython",
    "version": 2
   },
   "file_extension": ".py",
   "mimetype": "text/x-python",
   "name": "python",
   "nbconvert_exporter": "python",
   "pygments_lexer": "ipython2",
   "version": "2.7.6"
  }
 },
 "nbformat": 4,
 "nbformat_minor": 5
}
